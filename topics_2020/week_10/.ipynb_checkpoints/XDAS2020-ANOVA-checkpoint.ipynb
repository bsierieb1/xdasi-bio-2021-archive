{
    "cells": [
        {
            "cell_type": "markdown",
            "metadata": {},
            "source": "\n"
        },
        {
            "cell_type": "code",
            "execution_count": null,
            "metadata": {},
            "outputs": [],
            "source": [
                "knitr::opts_chunk$set(echo = TRUE)\n",
                "\n"
            ]
        },
        {
            "cell_type": "markdown",
            "metadata": {},
            "source": [
                "# Analysis of Variance (ANOVA)\n",
                "\n",
                "## Suggested reading\n",
                "\n",
                "+ Grafen and Hails - Chapter 1\n",
                "+ Dalgaard - Chapter 7\n",
                "\n",
                "## The $\\chi^2$ distribution\n",
                "\n",
                "A $\\chi^{2}$ distribution represents the **sum of squared random values** selected from a **normal distribution**. The degrees of freedom, $k$ is simply the number of random values.\n",
                "\n",
                "$$Q = \\sum\\limits_{i=1}^{k} Z_{i}^{2}$$\n",
                "\n",
                "#### $\\chi^2$ with different sample sizes\n",
                "\n",
                "Let's simulate this data to see what it looks like when k = 10, 5, and 1 and the values are retrieved from a standard normal distribution.\n"
            ]
        },
        {
            "cell_type": "code",
            "execution_count": null,
            "metadata": {},
            "outputs": [],
            "source": [
                "#################\n",
                "\n",
                "# Sample size k = 10 ==> Chi-squared degrees of freedom = 10\n",
                "chik=10\n",
                "normval=numeric()\n",
                "for (i in 1:10000) {  # repeat this 10000 times\n",
                "  \n",
                "  # Randomly sample k items from the standard normal distribution\n",
                "  # then take the sum of squared values of the random samples\n",
                "  normval[i]=sum(rnorm(chik)**2)\n",
                "}\n",
                "\n",
                "# make a histogram of the results\n",
                "hist(normval, breaks=100, # make 100 bins on the x-axis\n",
                "     col=rgb(1,0,0,.25),  # make it red, with 25% transparency\n",
                "                          # this allows us to show multiple histograms on the same plot\n",
                "     ylim=c(0,2000),      # set the limits of the y-axis\n",
                "     main = \"Chi-square samples from the standard normal dist\"\n",
                "    )\n",
                "# Sample size k = 5 ==> Chi-squared degrees of freedom = 5\n",
                "chik=5\n",
                "normval=numeric()\n",
                "for (i in 1:10000) {\n",
                "  normval[i]=sum(rnorm(chik)**2)\n",
                "}\n",
                "\n",
                "# the `add` directive adds the new histogram to the old plot\n",
                "hist(normval, breaks=75,          # reduce the number of bins since this distribution\n",
                "                                  # is squished to the left\n",
                "     col=rgb(0,1,0,.25), add=T)   # green, with 25% transparency\n",
                "\n",
                "# Sample size k = 1 ==> Chi-squared degrees of freedom = 1\n",
                "chik=1\n",
                "normval=numeric()\n",
                "for (i in 1:10000) {\n",
                "  normval[i]=sum(rnorm(chik)**2)\n",
                "}\n",
                "\n",
                "hist(normval, breaks=50,          # use even fewer bins\n",
                "     col=rgb(0,0,1,.25), add=T)   # blue, with 25% transparency\n"
            ]
        },
        {
            "cell_type": "markdown",
            "metadata": {},
            "source": [
                "It is clear to see that as $k$ increases, the distribution begins to look like a **normal distribution**. \n",
                "\n",
                "This only happens when the **sample size is at least 10**, which is why it is not recommended to use the $\\chi^{2}$ test for small values of $k$ (<10).\n",
                "\n",
                "_**Note**_: we did not go over Fisher's exact test vs. the $\\chi$-squared test for tabular data, but the same rules apply: when comparing observed vs. expected proportions, we must use Fisher's exact test for small sample sizes, and we can use the $\\chi$-squared test for larger sample sizes.\n",
                "\n",
                "\n",
                "## The $F$-statistic\n",
                "\n",
                "To compare two $\\chi^{2}$ distributions, we can simply take a ratio of them (taking into account their degree of freedom). This distribution is called an **$F$-distribution** and the _**ratio**_ is the **$F$-statistic**. (The $F$-distribution is named after the statistician Ron Fisher.)\n",
                "\n",
                "#### F-distribution for samples from the same population\n",
                "\n",
                "Let's first see what it would look like if the the means of the two populations that are being sampled are **equal**.\n"
            ]
        },
        {
            "cell_type": "code",
            "execution_count": null,
            "metadata": {},
            "outputs": [],
            "source": [
                "chik=10\n",
                "normval=numeric()\n",
                "normval2=numeric()\n",
                "for (i in 1:10000) {\n",
                "   normval[i]=sum(rnorm(chik)**2)\n",
                "   normval2[i]=sum(rnorm(chik)**2) \n",
                "  \n",
                "}\n",
                "\n",
                "# since the values are sampled from the same distribution, \n",
                "# the ratios are centered around 1\n",
                "hist(((normval/(chik-1))/(normval2/(chik-1))),\n",
                "     main = \"Histogram of F-distribution\",\n",
                "     breaks=100, col=rgb(1,0,0,.25))\n"
            ]
        },
        {
            "cell_type": "markdown",
            "metadata": {},
            "source": [
                "Note that depending on how close most of the density is to the mean, the heights of two histograms will vary, even if they are generated using exactly the same procedure. Run the above code several times and see how the results change each time.\n",
                "\n",
                "#### F-distribution for populations with different means\n",
                "\n",
                "What if the means of our normal distributions are different? \n",
                "\n",
                "We can make a second histogram showing the same ratio for data sampled from two normal distributions with different means: the standard normal and a normal distribution with mean = 2 and sd = 1.\n",
                "\n",
                "Now, the ratio of the sums of the two samples will look quite different. Let's try this and superimpose the two histograms for comparison.\n"
            ]
        },
        {
            "cell_type": "code",
            "execution_count": null,
            "metadata": {},
            "outputs": [],
            "source": [
                "# same as above -- sample two sums of squares from the same dist\n",
                "chik=10\n",
                "normval=numeric()\n",
                "normval2=numeric()\n",
                "for (i in 1:10000) {\n",
                "  # take two sets of sample of size 10 from the standard normal distribution\n",
                "   normval[i]=sum(rnorm(chik)**2)\n",
                "   normval2[i]=sum(rnorm(chik)**2) \n",
                "  \n",
                "}\n",
                "\n",
                "# now plot the ratios of them\n",
                "# note that we didn't bother to store the intermediate result\n",
                "# since we don't need to do anything with it later.\n",
                "hist(((normval2/(chik-1))/(normval/(chik-1))),\n",
                "     main = \"Histogram of F-distribution\",\n",
                "     breaks=100, ylim=c(0,1500), \n",
                "     xlim=c(0,30),\n",
                "     col=rgb(1,0,0,.25))\n",
                "\n",
                "## now compare sums of squares when the means are different\n",
                "chik=10\n",
                "normval=numeric()\n",
                "normval2=numeric()\n",
                "for (i in 1:10000) {\n",
                "   normval[i]=sum(rnorm(chik)**2)\n",
                "   normval2[i]=sum(rnorm(chik, mean=2)**2) \n",
                "  \n",
                "\n",
                "}\n",
                "\n",
                "hist(((normval2/(chik-1))/(normval/(chik-1))), \n",
                "     breaks = 500, col=rgb(1,1,0,.25), add=T)    # need a lot less breaks here\n"
            ]
        },
        {
            "cell_type": "markdown",
            "metadata": {},
            "source": [
                "Remember that **variance** is essentially a sum of squares as discussed above. So now we have the ability to compare two different variances and use a statistic to determine if they are significantly different.\n",
                "\n",
                "## ANOVA Example\n",
                "\n",
                "The following example is from these Khan Academy videos:\n",
                "\n",
                "- [Calculating SST](https://www.youtube.com/watch?v=EFdlFoHI_0I)\n",
                "- [Calculating SSW and SSB](https://www.youtube.com/watch?v=j9ZPMlVHJVs)\n",
                "- [Hypothesis Testing](https://www.youtube.com/watch?v=Xg8_iSkJpAE)\n",
                "\n",
                "We previously discussed how we can use the $t$-test to determine if two sample distributions come from populations with the same mean (in which case, assuming equal variances, we can say that they come from the same population). \n",
                "\n",
                "In many cases, we will have _**multiple**_ sample groups and we will want to ask a similar question: **Are the means of the different samples the same ?**\n",
                "\n",
                "To answer this question we will look at a very simple case with three conditions -- $a$, $b$, and $c$ -- and ask if their means are significantly different.\n"
            ]
        },
        {
            "cell_type": "code",
            "execution_count": null,
            "metadata": {},
            "outputs": [],
            "source": [
                "# measurements for three conditions\n",
                "a=c(3,2,1)\n",
                "b=c(5,3,4)\n",
                "c=c(5,6,7)\n",
                "\n",
                "anova_mat = cbind(a,b,c)  # combine the data into a 3x3 matrix\n",
                "anova_mat                 # take a look at the matrix\n",
                "\n",
                "boxplot(as.data.frame(anova_mat)) # plot it as a data frame\n"
            ]
        },
        {
            "cell_type": "markdown",
            "metadata": {},
            "source": [
                "Looking at the boxplots above, it is clear to see that their means are indeed different. So the question we want to ask is whether the differences are **significant**.\n",
                "\n",
                "Instead of looking at the difference between the sample means, as we did with $t$-test, we will compare variances. There are three different variances that we can calculate:\n",
                "\n",
                "- **$SST$** ( Total Sum of Squares ) = variation of all the points to the overall mean.\n",
                "- **$SSW$** ( Within Group Sum of Squares ) = variation of the data within each group.\n",
                "- **$SSB$** ( Between Group Sum of Squares ) = variation of the group mean to the overall mean.\n",
                "\n",
                "We also need the _**degrees of freedom**_. Given that you know the average, how many values you need to know? It's simply one less than the number of items being considered for each comparison, because using the mean you can always calcuate the last value.\n",
                "\n",
                "To calculate $SST$, we simply take the difference of all the values from the overall mean, square them, and then take the sum.\n"
            ]
        },
        {
            "cell_type": "code",
            "execution_count": null,
            "metadata": {},
            "outputs": [],
            "source": [
                "# overall mean of the data\n",
                "anova_mat_mean = mean(anova_mat)\n",
                "\n",
                "# total variation = sum of squared deviations \n",
                "#                   of each data point from the overall mean\n",
                "SST = sum((anova_mat - anova_mat_mean)**2)\n",
                "SST\n"
            ]
        },
        {
            "cell_type": "markdown",
            "metadata": {},
            "source": [
                "Since this is a sample of the entire population, our degrees of freedom equal the total number of values minus one.\n",
                "\n"
            ]
        },
        {
            "cell_type": "code",
            "execution_count": null,
            "metadata": {},
            "outputs": [],
            "source": [
                "# total degrees of freedom = (# of data points) - 1\n",
                "SST_df = length(anova_mat)-1\n",
                "SST_df\n"
            ]
        },
        {
            "cell_type": "markdown",
            "metadata": {},
            "source": [
                "SSW ( Within Group Sum of Squares ) = variation of the data within each group. Here we calculate the variation of each point relative to the mean of its own group and simply add up the squared differences across all the groups.\n",
                "\n"
            ]
        },
        {
            "cell_type": "code",
            "execution_count": null,
            "metadata": {},
            "outputs": [],
            "source": [
                "anova_mat_col_mean = colMeans(anova_mat)\n",
                "anova_mat_col_mean\n",
                "\n",
                "SSW=0\n",
                "for ( i in 1:nrow(anova_mat)) {\n",
                "  SSW = SSW + sum((anova_mat[i,]-anova_mat_col_mean)**2)\n",
                "}\n",
                "SSW\n"
            ]
        },
        {
            "cell_type": "markdown",
            "metadata": {},
            "source": [
                "When calculating the degree of freedom, remember that we calculated the sum of squared differences relative every group's mean, so if we have *m* groups and *n* samples in each group, then ``df = m*(n-1)``.\n",
                "\n"
            ]
        },
        {
            "cell_type": "code",
            "execution_count": null,
            "metadata": {},
            "outputs": [],
            "source": [
                "SSW_df = ncol(anova_mat)*(nrow(anova_mat)-1)\n",
                "SSW_df\n"
            ]
        },
        {
            "cell_type": "markdown",
            "metadata": {},
            "source": [
                "SSB ( Between Group Sum of Squares ) = variation of the group mean to the overall mean. First, we find the sum of squared differences for each group mean compared to the overall mean. We also multiply by the number of values in the group to create a SS comparison for each of the original datapoints.\n",
                "\n"
            ]
        },
        {
            "cell_type": "code",
            "execution_count": null,
            "metadata": {},
            "outputs": [],
            "source": [
                "SSB = 0\n",
                "\n",
                "for ( i in 1:length(anova_mat_col_mean)) {\n",
                " SSB = SSB + (nrow(anova_mat)*(anova_mat_col_mean[i]-anova_mat_mean)^2)\n",
                "}\n",
                "SSB\n"
            ]
        },
        {
            "cell_type": "markdown",
            "metadata": {},
            "source": [
                "For calculating between group degree of freedom, remember that if we have *m* groups, so it is simply *m-1*.\n",
                "\n"
            ]
        },
        {
            "cell_type": "code",
            "execution_count": null,
            "metadata": {},
            "outputs": [],
            "source": [
                "SSB_df = ncol(anova_mat)-1\n",
                "SSB_df\n"
            ]
        },
        {
            "cell_type": "markdown",
            "metadata": {},
            "source": [
                "Finally since our variance calculations are sums of squares, they can be considered to follow a $\\chi^2$ distribution. If the variance within the groups is the same and if the means of the groups are the same, then the variance between the groups should be the same as within the groups. \n",
                "\n",
                "We can take this one step further and say that if the variance *between* the groups is *greater* than *within* the groups, then the means of the groups are different. Any change in the ratio would fit an *F-distribution* and a $p$-value can be calculated.\n"
            ]
        },
        {
            "cell_type": "code",
            "execution_count": null,
            "metadata": {},
            "outputs": [],
            "source": [
                "Fstat = (SSB/SSB_df) / (SSW/SSW_df)  # (24/2) / (6/6)\n",
                "pf(Fstat, 2, 6, lower.tail = F)      # df1 = df(W) = 2; df2 = df(B) = 6 \n"
            ]
        },
        {
            "cell_type": "markdown",
            "metadata": {},
            "source": [
                "We can confirm our results using the **aov** function. \n",
                "\n"
            ]
        },
        {
            "cell_type": "code",
            "execution_count": null,
            "metadata": {},
            "outputs": [],
            "source": [
                "library(reshape2)\n",
                "\n",
                "# we use the melt function to reshape the data frame into three columns:\n",
                "# Var1 = the three groups, indexed as 1, 2, 3\n",
                "# Var2 = the three groups, indexed by their variable name\n",
                "# value = the value of each data point\n",
                "anova_mat.melt = melt(anova_mat)\n",
                "anova_mat.melt  # look at this new data structure\n",
                "\n",
                "# look at the result of the ANOVA command `aov`\n",
                "# the syntax is to do the analysis of the values in response to the factors (groups a,b,c)\n",
                "summary(aov(anova_mat.melt$value ~ anova_mat.melt$Var2))\n"
            ]
        },
        {
            "cell_type": "markdown",
            "metadata": {},
            "source": "\n"
        }
    ],
    "metadata": {
        "anaconda-cloud": "",
        "kernelspec": {
            "display_name": "R",
            "langauge": "R",
            "name": "ir"
        },
        "language_info": {
            "codemirror_mode": "r",
            "file_extension": ".r",
            "mimetype": "text/x-r-source",
            "name": "R",
            "pygments_lexer": "r",
            "version": "3.4.1"
        }
    },
    "nbformat": 4,
    "nbformat_minor": 1
}
